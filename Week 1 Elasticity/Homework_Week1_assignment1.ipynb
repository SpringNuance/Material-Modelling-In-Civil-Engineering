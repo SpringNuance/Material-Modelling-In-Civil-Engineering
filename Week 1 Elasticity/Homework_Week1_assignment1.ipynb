{
 "cells": [
  {
   "cell_type": "code",
   "execution_count": null,
   "metadata": {},
   "outputs": [],
   "source": [
    "from IPython.display import Image, display\n",
    "def display_image(image_path, width):\n",
    "    display(Image(filename=image_path, width=width))\n",
    "display_image('path_to_your_image.jpg', width=300)"
   ]
  },
  {
   "cell_type": "markdown",
   "metadata": {},
   "source": [
    "# Home exercise 1.1. (5p)\n",
    "\n",
    "Consider the plane stress state below\n",
    "\n",
    "$$\n",
    "\\sigma = \\begin{bmatrix}\n",
    "\\sigma_0 & 0 & 0 \\\\\n",
    "0 & \\alpha\\sigma_0 & 0 \\\\\n",
    "0 & 0 & 0\n",
    "\\end{bmatrix}\n",
    "$$\n",
    "\n",
    "where $\\alpha \\in [-1, 1]$, $\\sigma_0 > 0$, and $x_1,x_2,x_3$ are the cartesian coordinates in the basis $\\vec{e}_1, \\vec{e}_2, \\vec{e}_3$.\n",
    "\n",
    "An experimental setting giving rise to such a bi-axial stress state is often used to determine the parameters of material models.\n",
    "\n",
    "Determine as a function of the parameter $\\alpha$\n",
    "\n",
    "1. The mean stress $\\sigma_m$, also called the hydrostatic pressure $p$;\n",
    "2. The equivalent von Mises stress $\\sigma_e = \\sqrt{3J_2}$;\n",
    "3. Lode angle (see Figure 1)\n",
    "\n",
    "$$\n",
    "\\theta = \\frac{1}{3} \\arccos\\left(\\frac{3\\sqrt{3}J_3}{2J_2^{3/2}}\\right)\n",
    "$$\n",
    "\n",
    "Note: pay attention to the definition of the Lode angle (angle between what and what).\n",
    "\n",
    "4. The maximum shear stress $\\tau_{max}$;\n",
    "5. The normal of the maximum shear stress plane.\n",
    "\n",
    "What is the stress state corresponding to $\\alpha = -1$?\n"
   ]
  },
  {
   "cell_type": "markdown",
   "metadata": {},
   "source": [
    "---"
   ]
  },
  {
   "cell_type": "code",
   "execution_count": 3,
   "metadata": {},
   "outputs": [],
   "source": [
    "import sympy as sp\n",
    "import numpy as np"
   ]
  },
  {
   "cell_type": "code",
   "execution_count": 4,
   "metadata": {},
   "outputs": [],
   "source": [
    "# Define the symbols\n",
    "sigma_0, alpha = sp.symbols('sigma_0 alpha', real=True, positive=True)\n",
    "\n",
    "# Stress matrix\n",
    "sigma = sp.Matrix([[sigma_0, 0, 0], \n",
    "                   [0, alpha*sigma_0, 0], \n",
    "                   [0, 0, 0]])"
   ]
  },
  {
   "cell_type": "code",
   "execution_count": 8,
   "metadata": {},
   "outputs": [
    {
     "name": "stdout",
     "output_type": "stream",
     "text": [
      "alpha*sigma_0/3 + sigma_0/3\n"
     ]
    }
   ],
   "source": [
    "# 1. Mean stress sigma_m (hydrostatic pressure)\n",
    "sigma_m = sp.trace(sigma)/3\n",
    "print(sigma_m)"
   ]
  },
  {
   "cell_type": "markdown",
   "metadata": {},
   "source": [
    "1. The mean stress $\\sigma_m$ as a function of $\\alpha$ is\n",
    "\n",
    "$\n",
    "\\sigma_m = \\dfrac{\\alpha \\sigma_0}{3} + \\dfrac{\\sigma_0}{3}\n",
    "$"
   ]
  },
  {
   "cell_type": "markdown",
   "metadata": {},
   "source": [
    "---"
   ]
  },
  {
   "cell_type": "code",
   "execution_count": 9,
   "metadata": {},
   "outputs": [
    {
     "name": "stdout",
     "output_type": "stream",
     "text": [
      "0.707106781186548*sqrt(alpha**2*sigma_0**2 + sigma_0**2 + (-alpha*sigma_0 + sigma_0)**2)\n"
     ]
    }
   ],
   "source": [
    "# For the second invariant J2, we only consider the deviatoric components in plane stress\n",
    "# J2 = (1/2)*((sigma_xx - sigma_yy)**2 + (sigma_yy - sigma_zz)**2 + (sigma_zz - sigma_xx)**2 + 6*(tau_xy**2 + tau_yz**2 + tau_zx**2))\n",
    "\n",
    "# But since tau_xy = tau_yz = tau_zx = 0 in plane stress, we simplify this to\n",
    "J2 = (1/6)*((sigma[0,0] - sigma[1,1])**2 + sigma[0,0]**2 + sigma[1,1]**2)\n",
    "\n",
    "# 2. Equivalent (von Mises) stress sigma_e (simplified for plane stress)\n",
    "sigma_e = sp.sqrt(3*J2)\n",
    "\n",
    "print(sigma_e)"
   ]
  },
  {
   "cell_type": "markdown",
   "metadata": {},
   "source": [
    "2. The equivalent von Mises stress $\\sigma_e = \\sqrt{3J_2}$ as a function of $\\alpha$ is"
   ]
  },
  {
   "cell_type": "markdown",
   "metadata": {},
   "source": [
    "$\\sigma_e = \\sqrt{3 \\cdot \\frac{1}{6} \\left(\\sigma_{xx} - \\sigma_{yy}\\right)^2 + \\sigma_{xx}^2 + \\sigma_{yy}^2}$\n",
    "\n",
    "0.707106781186548*sqrt(alpha**2*sigma_0**2 + sigma_0**2 + (-alpha*sigma_0 + sigma_0)**2)"
   ]
  },
  {
   "cell_type": "markdown",
   "metadata": {},
   "source": [
    "---"
   ]
  },
  {
   "cell_type": "markdown",
   "metadata": {},
   "source": [
    "3. Lode angle"
   ]
  },
  {
   "cell_type": "markdown",
   "metadata": {},
   "source": [
    "---"
   ]
  },
  {
   "cell_type": "markdown",
   "metadata": {},
   "source": [
    "4. The maximum shear stress $\\tau_{max}$;"
   ]
  },
  {
   "cell_type": "markdown",
   "metadata": {},
   "source": [
    "---"
   ]
  },
  {
   "cell_type": "markdown",
   "metadata": {},
   "source": [
    "5. The normal of the maximum shear stress plane."
   ]
  },
  {
   "cell_type": "markdown",
   "metadata": {},
   "source": [
    "---"
   ]
  },
  {
   "cell_type": "markdown",
   "metadata": {},
   "source": [
    "What is the stress state corresponding to $\\alpha = -1$?"
   ]
  }
 ],
 "metadata": {
  "kernelspec": {
   "display_name": "Python 3",
   "language": "python",
   "name": "python3"
  },
  "language_info": {
   "codemirror_mode": {
    "name": "ipython",
    "version": 3
   },
   "file_extension": ".py",
   "mimetype": "text/x-python",
   "name": "python",
   "nbconvert_exporter": "python",
   "pygments_lexer": "ipython3",
   "version": "3.12.3"
  }
 },
 "nbformat": 4,
 "nbformat_minor": 2
}
